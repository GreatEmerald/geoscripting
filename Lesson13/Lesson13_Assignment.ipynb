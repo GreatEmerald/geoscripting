{
 "metadata": {
  "name": "",
  "signature": "sha256:e5b4f6c22b2801077f49e34c033d91c8aca5f388fdda045bf551ab75e0ef60b3"
 },
 "nbformat": 3,
 "nbformat_minor": 0,
 "worksheets": [
  {
   "cells": [
    {
     "cell_type": "markdown",
     "metadata": {},
     "source": [
      "*Lesson 13, NDWI and reprojection in python*  \n",
      "*Team Rython*  \n",
      "*Dainius Masiliunas & Tim Weerman*\n",
      "*20 January 2016*  \n",
      "*Apache license 2.0*  "
     ]
    },
    {
     "cell_type": "code",
     "collapsed": false,
     "input": [
      "# Import modules\n",
      "import urllib\n",
      "import os\n",
      "from osgeo import gdal\n",
      "from osgeo.gdalconst import GA_ReadOnly, GDT_Float32\n",
      "import numpy as np\n",
      "\n",
      "# Change working directory\n",
      "os.getcwd()\n",
      "#######################################################\n",
      "#os.chdir(\"Yourworkingdirectory/geoscripting/Lesson13\")\n",
      "#######################################################"
     ],
     "language": "python",
     "metadata": {},
     "outputs": [
      {
       "metadata": {},
       "output_type": "pyout",
       "prompt_number": 2,
       "text": [
        "'/home/tim/geoscripting/Lesson13'"
       ]
      }
     ],
     "prompt_number": 2
    },
    {
     "cell_type": "markdown",
     "metadata": {},
     "source": [
      "The function download() lets you download the two necessary bands from dropbox. If the files are already present in your data directory it won't  download the files from dropbox."
     ]
    },
    {
     "cell_type": "code",
     "collapsed": false,
     "input": [
      "filelist = [\"LC81980242014260LGN00_sr_band4.tif\", \"LC81980242014260LGN00_sr_band5.tif\"]\n",
      "\n",
      "def download():\n",
      "    if not os.path.isfile(\"data/\" +filelist[0]):\n",
      "        # Download the file\n",
      "        print \"The file is downloading, this can take a while\"\n",
      "        urllib.urlretrieve(\"https://www.dropbox.com/s/zb7nrla6fqi1mq4/LC81980242014260-SC20150123044700.tar.gz?dl=1\", \"data/Netherlands.tar.gz\")\n",
      "        # Untar the file\n",
      "        for filename in filelist:\n",
      "           os.system(\"tar -zxvf data/Netherlands.tar.gz -C data \" +filename)"
     ],
     "language": "python",
     "metadata": {},
     "outputs": [],
     "prompt_number": 4
    },
    {
     "cell_type": "markdown",
     "metadata": {},
     "source": [
      "The calculateNDWI() calculates the NDWI from the 2 given files. The output file is written to \"output\"."
     ]
    },
    {
     "cell_type": "code",
     "collapsed": false,
     "input": [
      "def calculateNDWI(filename4, filename5, output):\n",
      "    # Set\n",
      "    dataSource4 = gdal.Open(\"data/\" +filename4, GA_ReadOnly)\n",
      "    dataSource5 = gdal.Open(\"data/\" +filename5, GA_ReadOnly)\n",
      "\n",
      "    # Save bands 4 & 5\n",
      "    band4 = dataSource4.GetRasterBand(1).ReadAsArray(0,0,dataSource4.RasterXSize, dataSource4.RasterYSize).astype(np.float32)\n",
      "    band5 = dataSource5.GetRasterBand(1).ReadAsArray(0,0,dataSource5.RasterXSize, dataSource5.RasterYSize).astype(np.float32)\n",
      "\n",
      "    # Derive NDWI\n",
      "    # Set np.errstate to avoid warning of invalid values (i.e. NaN values) in the divide \n",
      "    with np.errstate(divide='ignore'):\n",
      "        ndwi = ((band4-band5)/(band4+band5))\n",
      "        \n",
      "    ndwi[np.isnan(ndwi)] = -99\n",
      "    # Save the image\n",
      "    driver = gdal.GetDriverByName('GTiff')\n",
      "    outDataSet=driver.Create(output, dataSource4.RasterXSize, dataSource4.RasterYSize, 1, GDT_Float32)\n",
      "    outBand = outDataSet.GetRasterBand(1)\n",
      "    outBand.WriteArray(ndwi,0,0)\n",
      "    outBand.SetNoDataValue(-99)\n",
      "\n",
      "    # Set the projection and extent information of the dataset\n",
      "    outDataSet.SetProjection(dataSource4.GetProjection())\n",
      "    outDataSet.SetGeoTransform(dataSource4.GetGeoTransform())\n",
      "\n",
      "    # Current projection is...\n",
      "    print \"\\nInformation about \" +output\n",
      "    print '\\nProjection is: ', outDataSet.GetProjection()\n",
      "\n",
      "    outBand.FlushCache()\n",
      "    outDataSet.FlushCache()"
     ],
     "language": "python",
     "metadata": {},
     "outputs": [],
     "prompt_number": 5
    },
    {
     "cell_type": "markdown",
     "metadata": {},
     "source": [
      "ReprojectNDWI() reprojects the file to a projection given by the user."
     ]
    },
    {
     "cell_type": "code",
     "collapsed": false,
     "input": [
      "def reprojectNDWI(projinput, projoutput, projection):\n",
      "    # Reprojection\n",
      "    os.system(\"gdalwarp -t_srs \" +projection +\" \" +projinput +\" \" +projoutput)\n",
      "\n",
      "    # Current projection is...\n",
      "    reprojected = gdal.Open(projoutput, GA_ReadOnly)\n",
      "    print \"\\nInformation about the new reprojected file \" +projoutput\n",
      "    print '\\nProjection is: ', reprojected.GetProjection()"
     ],
     "language": "python",
     "metadata": {},
     "outputs": [],
     "prompt_number": 6
    },
    {
     "cell_type": "markdown",
     "metadata": {},
     "source": [
      "Here is an example of how to run the script correctly."
     ]
    },
    {
     "cell_type": "code",
     "collapsed": false,
     "input": [
      "download()\n",
      "calculateNDWI(filelist[0], filelist[1], \"data/ndwi.tif\")\n",
      "reprojectNDWI(\"data/ndwi.tif\", \"data/ndwi_ll.tif\", \"'EPSG:4326'\")"
     ],
     "language": "python",
     "metadata": {},
     "outputs": [
      {
       "output_type": "stream",
       "stream": "stdout",
       "text": [
        "\n",
        "Information about data/ndwi.tif\n",
        "\n",
        "Projection is:  PROJCS[\"WGS 84 / UTM zone 31N\",GEOGCS[\"WGS 84\",DATUM[\"WGS_1984\",SPHEROID[\"WGS 84\",6378137,298.257223563,AUTHORITY[\"EPSG\",\"7030\"]],AUTHORITY[\"EPSG\",\"6326\"]],PRIMEM[\"Greenwich\",0],UNIT[\"degree\",0.0174532925199433],AUTHORITY[\"EPSG\",\"4326\"]],PROJECTION[\"Transverse_Mercator\"],PARAMETER[\"latitude_of_origin\",0],PARAMETER[\"central_meridian\",3],PARAMETER[\"scale_factor\",0.9996],PARAMETER[\"false_easting\",500000],PARAMETER[\"false_northing\",0],UNIT[\"metre\",1,AUTHORITY[\"EPSG\",\"9001\"]],AUTHORITY[\"EPSG\",\"32631\"]]\n",
        "\n",
        "Information about the new reprojected file data/ndwi_ll.tif"
       ]
      },
      {
       "output_type": "stream",
       "stream": "stdout",
       "text": [
        "\n",
        "\n",
        "Projection is:  GEOGCS[\"WGS 84\",DATUM[\"WGS_1984\",SPHEROID[\"WGS 84\",6378137,298.257223563,AUTHORITY[\"EPSG\",\"7030\"]],AUTHORITY[\"EPSG\",\"6326\"]],PRIMEM[\"Greenwich\",0],UNIT[\"degree\",0.0174532925199433],AUTHORITY[\"EPSG\",\"4326\"]]\n"
       ]
      }
     ],
     "prompt_number": 7
    },
    {
     "cell_type": "code",
     "collapsed": false,
     "input": [
      "# End of the script\n",
      "print \"This is the end of the script, your image has been created.\""
     ],
     "language": "python",
     "metadata": {},
     "outputs": [
      {
       "output_type": "stream",
       "stream": "stdout",
       "text": [
        "This is the end of the script, your image has been created.\n"
       ]
      }
     ],
     "prompt_number": 8
    }
   ],
   "metadata": {}
  }
 ]
}