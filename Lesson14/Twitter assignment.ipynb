{
 "cells": [
  {
   "cell_type": "markdown",
   "metadata": {},
   "source": [
    "# Twitter data mining using Python assignment 14"
   ]
  },
  {
   "cell_type": "markdown",
   "metadata": {},
   "source": [
    "*Team Rython: Dainius Masiliunas and Tim Weerman*  \n",
    "*Date: 21st of January, 2016*  \n",
    "*Apache License 2.0*  "
   ]
  },
  {
   "cell_type": "markdown",
   "metadata": {},
   "source": [
    "## Imports\n",
    "Make sure you have pysqlite2, tweepy and spatialite installed!"
   ]
  },
  {
   "cell_type": "code",
   "execution_count": 1,
   "metadata": {
    "collapsed": true
   },
   "outputs": [],
   "source": [
    "from __future__ import division\n",
    "import tweepy\n",
    "import datetime\n",
    "import json\n",
    "import os\n",
    "from pysqlite2 import dbapi2 as sqlite3"
   ]
  },
  {
   "cell_type": "markdown",
   "metadata": {},
   "source": [
    "## Twitter authentication (fill this!)"
   ]
  },
  {
   "cell_type": "code",
   "execution_count": 2,
   "metadata": {
    "collapsed": true
   },
   "outputs": [],
   "source": [
    "APP_KEY = \"\"\n",
    "APP_SECRET = \"\"\n",
    "OAUTH_TOKEN = \"\"\n",
    "OAUTH_TOKEN_SECRET = \"\""
   ]
  },
  {
   "cell_type": "markdown",
   "metadata": {},
   "source": [
    "Using Tweepy instead of Twython (because it's more readily available via apt-get or zypper)."
   ]
  },
  {
   "cell_type": "code",
   "execution_count": 3,
   "metadata": {
    "collapsed": true
   },
   "outputs": [],
   "source": [
    "auth = tweepy.OAuthHandler(APP_KEY, APP_SECRET)\n",
    "auth.set_access_token(OAUTH_TOKEN, OAUTH_TOKEN_SECRET)\n",
    "api = tweepy.API(auth)"
   ]
  },
  {
   "cell_type": "markdown",
   "metadata": {},
   "source": [
    "## Database file to write to (fill this!)\n",
    "The database file has to exist and already have a table defined. An emty ready database file is included in \"spatial-backup.sqlite\", so you can use that."
   ]
  },
  {
   "cell_type": "code",
   "execution_count": 4,
   "metadata": {
    "collapsed": true
   },
   "outputs": [],
   "source": [
    "databasefile = \"spatial-backup.sqlite\""
   ]
  },
  {
   "cell_type": "markdown",
   "metadata": {},
   "source": [
    "## SQLite opening\n",
    "**Make sure you load pysqlite2, and give a path for mod_spatialite for SpatiaLite support! This may be distribution-specific! You might need to install libspatialite!**"
   ]
  },
  {
   "cell_type": "code",
   "execution_count": 5,
   "metadata": {
    "collapsed": true
   },
   "outputs": [],
   "source": [
    "conn = sqlite3.connect(databasefile)\n",
    "conn.enable_load_extension(True)\n",
    "conn.execute('SELECT load_extension(\"/usr/lib64/mod_spatialite.so.7\")')\n",
    "curs = conn.cursor()"
   ]
  },
  {
   "cell_type": "markdown",
   "metadata": {},
   "source": [
    "## Coordinates to WKT\n",
    "Converts Twitter coordinates (two points) into a Well Known Text."
   ]
  },
  {
   "cell_type": "code",
   "execution_count": 6,
   "metadata": {
    "collapsed": true
   },
   "outputs": [],
   "source": [
    "def coordinates_to_wkt(coords):\n",
    "    if coords == None:\n",
    "        return \"\"\n",
    "    return \"POINT(\"+str(coords[\"coordinates\"][0])+\" \"+str(coords[\"coordinates\"][1])+\")\""
   ]
  },
  {
   "cell_type": "markdown",
   "metadata": {},
   "source": [
    "## Bounding box to WKT\n",
    "Calculates the centroid of a bounding box and returns a Well Known Text of that point. Only polygonal bounding boxes are supported (but are there any other kind?)"
   ]
  },
  {
   "cell_type": "code",
   "execution_count": 7,
   "metadata": {
    "collapsed": true
   },
   "outputs": [],
   "source": [
    "def bbox_to_wkt(bbox):\n",
    "    if bbox.coordinates == None:\n",
    "        return \"\"\n",
    "    if bbox.type == \"Polygon\":\n",
    "        centroid = [0, 0]\n",
    "        centroid[0] = (bbox.coordinates[0][2][0] + bbox.coordinates[0][0][0]) / 2\n",
    "        centroid[1] = (bbox.coordinates[0][2][1] + bbox.coordinates[0][0][1]) / 2\n",
    "        return \"POINT(\"+str(centroid[0])+\" \"+str(centroid[1])+\")\"\n",
    "    print \"Unknown place type!\"\n",
    "    return \"\""
   ]
  },
  {
   "cell_type": "markdown",
   "metadata": {},
   "source": [
    "## Process query: main function of the script\n",
    "Does the query parsing and output to SpatiaLite. Pass the result of `api.search()` to it."
   ]
  },
  {
   "cell_type": "code",
   "execution_count": 8,
   "metadata": {
    "collapsed": true
   },
   "outputs": [],
   "source": [
    "def process_query(search_results):\n",
    "    for tweet in search_results:\n",
    "        full_place_name = \"\"\n",
    "        place_type = \"\"\n",
    "        location = \"\"\n",
    "        username =  tweet.user.screen_name\n",
    "        followers_count =  tweet.user.followers_count\n",
    "        tweettext = tweet.text.encode(\"utf-8\")\n",
    "        if tweet.place != None:\n",
    "            full_place_name = tweet.place.full_name\n",
    "            place_type =  tweet.place.place_type\n",
    "        coordinates = tweet.coordinates\n",
    "        if (coordinates != None) or (tweet.place != None):\n",
    "            print 'Found a geolocated tweet! By:'\n",
    "            print username\n",
    "            print '==========================='\n",
    "            if coordinates != None:\n",
    "                location = coordinates_to_wkt(coordinates)\n",
    "            else:\n",
    "                if tweet.place != None:\n",
    "                    location = bbox_to_wkt(tweet.place.bounding_box)\n",
    "            curs.execute(\"insert into tweets (username, followers_count, tweettext, full_place_name, place_type, coordinates, geometry) values (?, ?, ?, ?, ?, ?, ST_GeomFromText( ? , 4326));\", \\\n",
    "                (username, followers_count, tweettext.decode('utf-8'), full_place_name, place_type, location, location))\n",
    "            conn.commit()"
   ]
  },
  {
   "cell_type": "markdown",
   "metadata": {},
   "source": [
    "# Example queries\n",
    "Write queries in succession (or loops if you like). Their results (if they are geolocated) will be added into the SpatiaLite database."
   ]
  },
  {
   "cell_type": "code",
   "execution_count": 9,
   "metadata": {
    "collapsed": false
   },
   "outputs": [
    {
     "name": "stdout",
     "output_type": "stream",
     "text": [
      "Found a geolocated tweet! By:\n",
      "scltnmz\n",
      "===========================\n",
      "Found a geolocated tweet! By:\n",
      "KyleSokol\n",
      "===========================\n",
      "Found a geolocated tweet! By:\n",
      "sylvainbauza\n",
      "===========================\n",
      "Found a geolocated tweet! By:\n",
      "nahlaw\n",
      "===========================\n",
      "Found a geolocated tweet! By:\n",
      "SpotHopperApp\n",
      "===========================\n",
      "Found a geolocated tweet! By:\n",
      "moyamcallister\n",
      "===========================\n",
      "Found a geolocated tweet! By:\n",
      "azfRFuFnBthjvNb\n",
      "===========================\n",
      "Found a geolocated tweet! By:\n",
      "azfRFuFnBthjvNb\n",
      "===========================\n",
      "Found a geolocated tweet! By:\n",
      "AcostaMzk\n",
      "===========================\n",
      "Found a geolocated tweet! By:\n",
      "azfRFuFnBthjvNb\n",
      "===========================\n",
      "Found a geolocated tweet! By:\n",
      "bh_Cairo\n",
      "===========================\n",
      "Found a geolocated tweet! By:\n",
      "MohammadKabli\n",
      "===========================\n",
      "Found a geolocated tweet! By:\n",
      "haquelpontes\n",
      "===========================\n",
      "Found a geolocated tweet! By:\n",
      "mohameduwk_97\n",
      "===========================\n",
      "Found a geolocated tweet! By:\n",
      "bh_Cairo\n",
      "===========================\n",
      "Found a geolocated tweet! By:\n",
      "bh_Cairo\n",
      "===========================\n",
      "Found a geolocated tweet! By:\n",
      "Spiky216\n",
      "===========================\n",
      "Found a geolocated tweet! By:\n",
      "brunomanzali\n",
      "===========================\n",
      "Found a geolocated tweet! By:\n",
      "tmj_wak_jobs\n",
      "===========================\n",
      "Found a geolocated tweet! By:\n",
      "Franki_is_witty\n",
      "===========================\n"
     ]
    }
   ],
   "source": [
    "process_query(api.search(q=\"Beer\", count=100))\n",
    "process_query(api.search(q=\"Jorn\", count=100))\n",
    "process_query(api.search(q=\"cairo\", count=100))\n",
    "process_query(api.search(q=\"washington\", count=100))"
   ]
  },
  {
   "cell_type": "markdown",
   "metadata": {},
   "source": [
    "## Close the database"
   ]
  },
  {
   "cell_type": "code",
   "execution_count": 10,
   "metadata": {
    "collapsed": true
   },
   "outputs": [],
   "source": [
    "conn.close()"
   ]
  },
  {
   "cell_type": "markdown",
   "metadata": {},
   "source": [
    "## Visualise data\n",
    "Opens QGIS with the database passed as an argument. It should show you all the points. Add a layer of OpenStreetMap or such for a nice visualisation of the points."
   ]
  },
  {
   "cell_type": "code",
   "execution_count": 11,
   "metadata": {
    "collapsed": false
   },
   "outputs": [
    {
     "data": {
      "text/plain": [
       "0"
      ]
     },
     "execution_count": 11,
     "metadata": {},
     "output_type": "execute_result"
    }
   ],
   "source": [
    "os.system(\"qgis \"+databasefile)"
   ]
  },
  {
   "cell_type": "markdown",
   "metadata": {},
   "source": [
    "![](output.png)"
   ]
  },
  {
   "cell_type": "code",
   "execution_count": null,
   "metadata": {
    "collapsed": true
   },
   "outputs": [],
   "source": []
  }
 ],
 "metadata": {
  "kernelspec": {
   "display_name": "Python 2",
   "language": "python",
   "name": "python2"
  },
  "language_info": {
   "codemirror_mode": {
    "name": "ipython",
    "version": 2
   },
   "file_extension": ".py",
   "mimetype": "text/x-python",
   "name": "python",
   "nbconvert_exporter": "python",
   "pygments_lexer": "ipython2",
   "version": "2.7.9"
  }
 },
 "nbformat": 4,
 "nbformat_minor": 0
}
